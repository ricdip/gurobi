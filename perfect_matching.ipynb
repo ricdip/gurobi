{
 "cells": [
  {
   "cell_type": "markdown",
   "metadata": {},
   "source": [
    "# Perfect Matching Problem"
   ]
  },
  {
   "cell_type": "markdown",
   "metadata": {},
   "source": [
    "Given a graph $G=(V,E)$, find a matching which matches all vertices of the graph.\n",
    "\n",
    "(That is, every vertex of the graph is incident to exactly one edge of the matching)\n",
    "\n",
    "## Variables:\n",
    "$$\n",
    "x_e = \\begin{cases}\n",
    "1 \\text{ if edge $e$ is selected }\\\\\n",
    "0 \\text{ otherwise }\n",
    "\\end{cases}\n",
    "$$\n",
    "\n",
    "## Formulation:\n",
    "\\begin{eqnarray}\n",
    "max && \\sum_{e \\in E} x_e\\\\\n",
    "s.t.\\\\\n",
    "\\sum_{e \\in E(i)} x_e = 1 , &&&& \\forall i \\in V\\\\\n",
    "x_e \\in {\\{0,1\\}}^{|E|}\n",
    "\\end{eqnarray}"
   ]
  },
  {
   "cell_type": "code",
   "execution_count": 101,
   "metadata": {},
   "outputs": [],
   "source": [
    "import networkx as nx\n",
    "import gurobipy as gb\n",
    "import matplotlib.pyplot as plt\n",
    "\n",
    "%matplotlib inline"
   ]
  },
  {
   "cell_type": "code",
   "execution_count": 102,
   "metadata": {},
   "outputs": [],
   "source": [
    "G = nx.Graph()"
   ]
  },
  {
   "cell_type": "code",
   "execution_count": 103,
   "metadata": {},
   "outputs": [],
   "source": [
    "G.add_nodes_from([1,2,3,4,5,6])"
   ]
  },
  {
   "cell_type": "code",
   "execution_count": 104,
   "metadata": {},
   "outputs": [],
   "source": [
    "G.add_edges_from([(1,2),(1,5),(2,3),(2,5),(3,4),(3,6),(5,6)])"
   ]
  },
  {
   "cell_type": "code",
   "execution_count": 105,
   "metadata": {},
   "outputs": [
    {
     "name": "stdout",
     "output_type": "stream",
     "text": [
      "G:\n"
     ]
    },
    {
     "data": {
      "image/png": "[encoded data removed]",
      "text/plain": [
       "<Figure size 576x360 with 1 Axes>"
      ]
     },
     "metadata": {
      "needs_background": "light"
     },
     "output_type": "display_data"
    }
   ],
   "source": [
    "plt.figure(figsize=(8,5))\n",
    "plt.axis('off')\n",
    "pos = {1:(0,1),2:(1,2),3:(2,2),4:(3,2),5:(1,0),6:(2,0)}\n",
    "node_labels = {i:i for i in G.nodes()}\n",
    "\n",
    "nx.draw_networkx_nodes(G,pos,G.nodes(),node_color='orange')\n",
    "nx.draw_networkx_edges(G,pos)\n",
    "nx.draw_networkx_labels(G,pos,labels=node_labels)\n",
    "\n",
    "print(\"G:\")"
   ]
  },
  {
   "cell_type": "code",
   "execution_count": 106,
   "metadata": {},
   "outputs": [],
   "source": [
    "perfectmatching = gb.Model()"
   ]
  },
  {
   "cell_type": "code",
   "execution_count": 107,
   "metadata": {},
   "outputs": [],
   "source": [
    "x = perfectmatching.addVars(G.edges(),vtype=gb.GRB.BINARY,name='x')"
   ]
  },
  {
   "cell_type": "code",
   "execution_count": 108,
   "metadata": {},
   "outputs": [],
   "source": [
    "perfectmatching.setObjective(x.sum(),gb.GRB.MAXIMIZE)"
   ]
  },
  {
   "cell_type": "code",
   "execution_count": 109,
   "metadata": {},
   "outputs": [],
   "source": [
    "for i in G.nodes():\n",
    "    name = \"node_%s\" % (i)\n",
    "    linexpr = gb.LinExpr()\n",
    "    for j in G.adj[i]:\n",
    "        if perfectmatching.getVarByName(\"x[%s,%s]\" % (i,j)) is not None:\n",
    "            linexpr+= x[i,j]\n",
    "        else:\n",
    "            linexpr+= x[j,i]\n",
    "    perfectmatching.addConstr(linexpr == 1, name=name)"
   ]
  },
  {
   "cell_type": "code",
   "execution_count": 110,
   "metadata": {},
   "outputs": [],
   "source": [
    "perfectmatching.update()"
   ]
  },
  {
   "cell_type": "code",
   "execution_count": 111,
   "metadata": {},
   "outputs": [],
   "source": [
    "perfectmatching.write('perfectmatching.lp')"
   ]
  },
  {
   "cell_type": "code",
   "execution_count": 112,
   "metadata": {},
   "outputs": [
    {
     "name": "stdout",
     "output_type": "stream",
     "text": [
      "Optimize a model with 6 rows, 7 columns and 14 nonzeros\n",
      "Variable types: 0 continuous, 7 integer (7 binary)\n",
      "Coefficient statistics:\n",
      "  Matrix range     [1e+00, 1e+00]\n",
      "  Objective range  [1e+00, 1e+00]\n",
      "  Bounds range     [1e+00, 1e+00]\n",
      "  RHS range        [1e+00, 1e+00]\n",
      "Presolve removed 6 rows and 7 columns\n",
      "Presolve time: 0.00s\n",
      "Presolve: All rows and columns removed\n",
      "\n",
      "Explored 0 nodes (0 simplex iterations) in 0.01 seconds\n",
      "Thread count was 1 (of 4 available processors)\n",
      "\n",
      "Solution count 1: 3 \n",
      "\n",
      "Optimal solution found (tolerance 1.00e-04)\n",
      "Best objective 3.000000000000e+00, best bound 3.000000000000e+00, gap 0.0000%\n"
     ]
    }
   ],
   "source": [
    "perfectmatching.optimize()"
   ]
  },
  {
   "cell_type": "code",
   "execution_count": 113,
   "metadata": {},
   "outputs": [
    {
     "name": "stdout",
     "output_type": "stream",
     "text": [
      "Obj: 3.0\n",
      "\n",
      "x[1,2] = 1\n",
      "x[1,5] = 0\n",
      "x[2,3] = 0\n",
      "x[2,5] = 0\n",
      "x[3,4] = 1\n",
      "x[3,6] = 0\n",
      "x[5,6] = 1\n"
     ]
    }
   ],
   "source": [
    "if perfectmatching.Status == gb.GRB.INFEASIBLE:\n",
    "    print(\"Model is infeasible\")\n",
    "else:\n",
    "    print(\"Obj:\",perfectmatching.ObjVal,end='\\n\\n')\n",
    "    for i in perfectmatching.getVars():\n",
    "        print(\"%s = %g\" % (i.VarName,i.x))"
   ]
  },
  {
   "cell_type": "code",
   "execution_count": 114,
   "metadata": {},
   "outputs": [
    {
     "name": "stdout",
     "output_type": "stream",
     "text": [
      "sol G:\n"
     ]
    },
    {
     "data": {
      "image/png": "[encoded data removed]",
      "text/plain": [
       "<Figure size 576x360 with 1 Axes>"
      ]
     },
     "metadata": {
      "needs_background": "light"
     },
     "output_type": "display_data"
    }
   ],
   "source": [
    "if perfectmatching.Status != gb.GRB.INFEASIBLE:\n",
    "    plt.figure(figsize=(8,5))\n",
    "    plt.axis('off')\n",
    "    pos = {1:(0,1),2:(1,2),3:(2,2),4:(3,2),5:(1,0),6:(2,0)}\n",
    "    node_labels = {i:i for i in G.nodes()}\n",
    "\n",
    "    edge_colors = ['red' if i.x == 1 else 'black' for i in perfectmatching.getVars()]\n",
    "\n",
    "    nx.draw_networkx_nodes(G,pos,G.nodes(),node_color='orange')\n",
    "    nx.draw_networkx_edges(G,pos,edge_color=edge_colors)\n",
    "    nx.draw_networkx_labels(G,pos,labels=node_labels)\n",
    "\n",
    "    print(\"sol G:\")\n",
    "    \n",
    "else:\n",
    "    print(\"Feasible solution not found\")"
   ]
  },
  {
   "cell_type": "markdown",
   "metadata": {},
   "source": [
    "### Example of an impossible perfect matching"
   ]
  },
  {
   "cell_type": "code",
   "execution_count": 115,
   "metadata": {},
   "outputs": [],
   "source": [
    "H = nx.Graph()\n",
    "H.add_nodes_from([1,2,3,4,5])\n",
    "H.add_edges_from([(1,2),(1,4),(2,3),(2,4),(3,5),(4,5)])"
   ]
  },
  {
   "cell_type": "code",
   "execution_count": 116,
   "metadata": {},
   "outputs": [
    {
     "name": "stdout",
     "output_type": "stream",
     "text": [
      "H:\n"
     ]
    },
    {
     "data": {
      "image/png": "[encoded data removed]",
      "text/plain": [
       "<Figure size 576x360 with 1 Axes>"
      ]
     },
     "metadata": {
      "needs_background": "light"
     },
     "output_type": "display_data"
    }
   ],
   "source": [
    "plt.figure(figsize=(8,5))\n",
    "plt.axis('off')\n",
    "pos = {1:(0,1),2:(1,2),3:(2,2),4:(1,0),5:(2,0)}\n",
    "node_labels = {i:i for i in H.nodes()}\n",
    "\n",
    "nx.draw_networkx_nodes(H,pos,H.nodes(),node_color='orange')\n",
    "nx.draw_networkx_edges(H,pos)\n",
    "nx.draw_networkx_labels(H,pos,labels=node_labels)\n",
    "\n",
    "print(\"H:\")"
   ]
  },
  {
   "cell_type": "code",
   "execution_count": 117,
   "metadata": {},
   "outputs": [],
   "source": [
    "impossibleperfectmatching = gb.Model()"
   ]
  },
  {
   "cell_type": "code",
   "execution_count": 118,
   "metadata": {},
   "outputs": [],
   "source": [
    "x = impossibleperfectmatching.addVars(H.edges(),vtype=gb.GRB.BINARY,name='x')"
   ]
  },
  {
   "cell_type": "code",
   "execution_count": 119,
   "metadata": {},
   "outputs": [],
   "source": [
    "impossibleperfectmatching.setObjective(x.sum(),gb.GRB.MAXIMIZE)"
   ]
  },
  {
   "cell_type": "code",
   "execution_count": 120,
   "metadata": {},
   "outputs": [],
   "source": [
    "for i in H.nodes():\n",
    "    name = \"node_%s\" % (i)\n",
    "    linexpr = gb.LinExpr()\n",
    "    for j in H.adj[i]:\n",
    "        if impossibleperfectmatching.getVarByName(\"x[%s,%s]\" % (i,j)) is not None:\n",
    "            linexpr+= x[i,j]\n",
    "        else:\n",
    "            linexpr+= x[j,i]\n",
    "    impossibleperfectmatching.addConstr(linexpr == 1, name=name)"
   ]
  },
  {
   "cell_type": "code",
   "execution_count": 121,
   "metadata": {},
   "outputs": [],
   "source": [
    "impossibleperfectmatching.update()"
   ]
  },
  {
   "cell_type": "code",
   "execution_count": 122,
   "metadata": {},
   "outputs": [],
   "source": [
    "impossibleperfectmatching.write('impossibleperfectmatching.lp')"
   ]
  },
  {
   "cell_type": "code",
   "execution_count": 123,
   "metadata": {},
   "outputs": [
    {
     "name": "stdout",
     "output_type": "stream",
     "text": [
      "Optimize a model with 5 rows, 6 columns and 12 nonzeros\n",
      "Variable types: 0 continuous, 6 integer (6 binary)\n",
      "Coefficient statistics:\n",
      "  Matrix range     [1e+00, 1e+00]\n",
      "  Objective range  [1e+00, 1e+00]\n",
      "  Bounds range     [1e+00, 1e+00]\n",
      "  RHS range        [1e+00, 1e+00]\n",
      "Presolve removed 3 rows and 4 columns\n",
      "Presolve time: 0.00s\n",
      "\n",
      "Explored 0 nodes (0 simplex iterations) in 0.01 seconds\n",
      "Thread count was 1 (of 4 available processors)\n",
      "\n",
      "Solution count 0\n",
      "\n",
      "Model is infeasible\n",
      "Best objective -, best bound -, gap -\n"
     ]
    }
   ],
   "source": [
    "impossibleperfectmatching.optimize()"
   ]
  },
  {
   "cell_type": "code",
   "execution_count": 124,
   "metadata": {},
   "outputs": [
    {
     "name": "stdout",
     "output_type": "stream",
     "text": [
      "Model is infeasible\n"
     ]
    }
   ],
   "source": [
    "if impossibleperfectmatching.Status == gb.GRB.INFEASIBLE:\n",
    "    print(\"Model is infeasible\")\n",
    "else:\n",
    "    print(\"Obj:\",impossibleperfectmatching.ObjVal,end='\\n\\n')\n",
    "    for i in impossibleperfectmatching.getVars():\n",
    "        print(\"%s = %g\" % (i.VarName,i.x))"
   ]
  },
  {
   "cell_type": "code",
   "execution_count": 125,
   "metadata": {},
   "outputs": [
    {
     "name": "stdout",
     "output_type": "stream",
     "text": [
      "Feasible solution not found\n"
     ]
    }
   ],
   "source": [
    "if impossibleperfectmatching.Status != gb.GRB.INFEASIBLE:\n",
    "    plt.figure(figsize=(8,5))\n",
    "    plt.axis('off')\n",
    "    pos = {1:(0,1),2:(1,2),3:(2,2),4:(1,0),5:(2,0)}\n",
    "    node_labels = {i:i for i in G.nodes()}\n",
    "\n",
    "    edge_colors = ['red' if i.x == 1 else 'black' for i in impossibleperfectmatching.getVars()]\n",
    "\n",
    "    nx.draw_networkx_nodes(H,pos,H.nodes(),node_color='orange')\n",
    "    nx.draw_networkx_edges(H,pos,edge_color=edge_colors)\n",
    "    nx.draw_networkx_labels(H,pos,labels=node_labels)\n",
    "\n",
    "    print(\"sol H:\")\n",
    "\n",
    "else:\n",
    "    print(\"Feasible solution not found\")"
   ]
  }
 ],
 "metadata": {
  "kernelspec": {
   "display_name": "Python 3",
   "language": "python",
   "name": "python3"
  },
  "language_info": {
   "codemirror_mode": {
    "name": "ipython",
    "version": 3
   },
   "file_extension": ".py",
   "mimetype": "text/x-python",
   "name": "python",
   "nbconvert_exporter": "python",
   "pygments_lexer": "ipython3",
   "version": "3.7.3"
  }
 },
 "nbformat": 4,
 "nbformat_minor": 2
}
