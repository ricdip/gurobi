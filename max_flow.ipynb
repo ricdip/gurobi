{
 "cells": [
  {
   "cell_type": "markdown",
   "metadata": {},
   "source": [
    "# Max Flow Problem"
   ]
  },
  {
   "cell_type": "markdown",
   "metadata": {},
   "source": [
    "Given a graph $G = (N,A)$ with arc capacities $u_{ij} \\geq 0$, find the **Maximum (s,t)-Flow**.\n",
    "\n",
    "## Variables:\n",
    "\n",
    "$$\n",
    "x_{ij} = \\text{\\{ quantity of flow x carried by arc $(i,j)$ \\}} \n",
    "$$\n",
    "\n",
    "$$\n",
    "u_{ij} = \\text{\\{ maximum units of flow carried by arc $(i,j)$ \\}}\n",
    "$$\n",
    "\n",
    "\n",
    "## Formulation:\n",
    "\n",
    "\\begin{eqnarray}\n",
    "max && k = \\sum_{(s,i) \\in A} x_{si}-\\sum_{(i,s) \\in A} x_{is} \\\\\n",
    "s.t.\\\\\n",
    "\\sum_{(i,j) \\in \\delta(i)^{+}} x_{ij} - \\sum_{(j,i) \\in \\delta(i)^{-}} x_{ji} = 0 , &&&& \\forall i \\neq \\{s,t\\} && \\text{( Balance constraints )} \\\\ \n",
    "0 \\leq x_{ij} \\leq u_{ij} , &&&& \\forall (i,j) \\in A && \\text{( Capacity constraints )}\\\\\n",
    "x_{ij} \\in \\mathbb{Z}_{+} &&&&&& \\text{( Integrality constraint )}\n",
    "\\end{eqnarray}"
   ]
  },
  {
   "cell_type": "code",
   "execution_count": 27,
   "metadata": {},
   "outputs": [],
   "source": [
    "import networkx as nx\n",
    "import gurobipy as gb\n",
    "import matplotlib.pyplot as plt\n",
    "\n",
    "%matplotlib inline"
   ]
  },
  {
   "cell_type": "code",
   "execution_count": 28,
   "metadata": {},
   "outputs": [],
   "source": [
    "G = nx.DiGraph()"
   ]
  },
  {
   "cell_type": "code",
   "execution_count": 29,
   "metadata": {},
   "outputs": [],
   "source": [
    "G.add_nodes_from([1,2,3,4,5,6])"
   ]
  },
  {
   "cell_type": "code",
   "execution_count": 30,
   "metadata": {},
   "outputs": [],
   "source": [
    "G.add_edges_from([ (1,2,{'capacity':20}),(1,4,{'capacity':25}),(2,3,{'capacity':20}),(4,5,{'capacity':15}),(3,6,{'capacity':15}),(5,6,{'capacity':10}),(3,5,{'capacity':10}),(4,2,{'capacity':8}) ])"
   ]
  },
  {
   "cell_type": "code",
   "execution_count": 31,
   "metadata": {},
   "outputs": [
    {
     "name": "stdout",
     "output_type": "stream",
     "text": [
      "G:\n",
      "edges (capacity)\n"
     ]
    },
    {
     "data": {
      "image/png": "[encoded data removed]",
      "text/plain": [
       "<Figure size 720x360 with 1 Axes>"
      ]
     },
     "metadata": {
      "needs_background": "light"
     },
     "output_type": "display_data"
    }
   ],
   "source": [
    "plt.figure(figsize=(10,5))\n",
    "\n",
    "plt.axis('off')\n",
    "\n",
    "pos = {1:(0,1),2:(1,2),3:(2,2),4:(1,0),5:(2,0),6:(3,1)}\n",
    "\n",
    "node_labels = {i:i for i in G.nodes()}\n",
    "edge_labels = {(u,v):G[u][v]['capacity'] for u,v in G.edges()}\n",
    "\n",
    "nx.draw_networkx_nodes(G,pos, node_color=['red','orange','orange','orange','orange','blue'])\n",
    "nx.draw_networkx_edges(G,pos, edge_color='black')\n",
    "nx.draw_networkx_labels(G,pos,labels=node_labels)\n",
    "nx.draw_networkx_edge_labels(G,pos,edge_labels=edge_labels)\n",
    "\n",
    "print(\"G:\")\n",
    "print(\"edges (capacity)\")"
   ]
  },
  {
   "cell_type": "code",
   "execution_count": 32,
   "metadata": {},
   "outputs": [],
   "source": [
    "maxflow = gb.Model()"
   ]
  },
  {
   "cell_type": "code",
   "execution_count": 33,
   "metadata": {},
   "outputs": [],
   "source": [
    "x = maxflow.addVars(((u,v) for u,v in G.edges()), lb = +0.0, vtype=gb.GRB.INTEGER,name='x')"
   ]
  },
  {
   "cell_type": "code",
   "execution_count": 34,
   "metadata": {},
   "outputs": [],
   "source": [
    "k = x.sum(1,'*') - x.sum('*',1)\n",
    "\n",
    "maxflow.setObjective(k,gb.GRB.MAXIMIZE)"
   ]
  },
  {
   "cell_type": "code",
   "execution_count": 35,
   "metadata": {},
   "outputs": [],
   "source": [
    "# balance constraints\n",
    "for i in G.nodes():\n",
    "    if (i != 1) and (i != 6):\n",
    "        name = \"balance_%s\" % (i)\n",
    "        maxflow.addConstr(x.sum('*',i) - x.sum(i,'*') == 0, name=name)"
   ]
  },
  {
   "cell_type": "code",
   "execution_count": 36,
   "metadata": {},
   "outputs": [],
   "source": [
    "# capacity constraints\n",
    "for u,v in G.edges():\n",
    "    name = \"capacity_%s_%s\" % (u,v)\n",
    "    maxflow.addConstr(x[u,v] <= G[u][v]['capacity'], name=name)"
   ]
  },
  {
   "cell_type": "code",
   "execution_count": 37,
   "metadata": {},
   "outputs": [],
   "source": [
    "maxflow.update()"
   ]
  },
  {
   "cell_type": "code",
   "execution_count": 38,
   "metadata": {},
   "outputs": [],
   "source": [
    "maxflow.write('maxflow.lp')"
   ]
  },
  {
   "cell_type": "code",
   "execution_count": 39,
   "metadata": {},
   "outputs": [
    {
     "name": "stdout",
     "output_type": "stream",
     "text": [
      "Optimize a model with 12 rows, 8 columns and 20 nonzeros\n",
      "Variable types: 0 continuous, 8 integer (0 binary)\n",
      "Coefficient statistics:\n",
      "  Matrix range     [1e+00, 1e+00]\n",
      "  Objective range  [1e+00, 1e+00]\n",
      "  Bounds range     [0e+00, 0e+00]\n",
      "  RHS range        [8e+00, 3e+01]\n",
      "Found heuristic solution: objective -0.0000000\n",
      "Presolve removed 12 rows and 8 columns\n",
      "Presolve time: 0.00s\n",
      "Presolve: All rows and columns removed\n",
      "\n",
      "Explored 0 nodes (0 simplex iterations) in 0.02 seconds\n",
      "Thread count was 1 (of 4 available processors)\n",
      "\n",
      "Solution count 2: 25 -0 \n",
      "\n",
      "Optimal solution found (tolerance 1.00e-04)\n",
      "Best objective 2.500000000000e+01, best bound 2.500000000000e+01, gap 0.0000%\n"
     ]
    }
   ],
   "source": [
    "maxflow.optimize()"
   ]
  },
  {
   "cell_type": "code",
   "execution_count": 40,
   "metadata": {},
   "outputs": [
    {
     "name": "stdout",
     "output_type": "stream",
     "text": [
      "Obj: 25.0\n",
      "\n",
      "x[1,2] = 15\n",
      "x[1,4] = 10\n",
      "x[2,3] = 15\n",
      "x[3,6] = 15\n",
      "x[3,5] = -0\n",
      "x[4,5] = 10\n",
      "x[4,2] = -0\n",
      "x[5,6] = 10\n"
     ]
    }
   ],
   "source": [
    "print(\"Obj:\", maxflow.ObjVal,end='\\n\\n')\n",
    "\n",
    "for i in maxflow.getVars():\n",
    "    print(\"%s = %g\" % (i.VarName,i.x))"
   ]
  },
  {
   "cell_type": "code",
   "execution_count": 41,
   "metadata": {},
   "outputs": [],
   "source": [
    "for u,v in G.edges():\n",
    "    var = maxflow.getVarByName(\"x[%d,%d]\" % (u,v))\n",
    "    G.add_edge(u,v,flow=var.x)"
   ]
  },
  {
   "cell_type": "code",
   "execution_count": 42,
   "metadata": {},
   "outputs": [
    {
     "data": {
      "text/plain": [
       "OutEdgeDataView([(1, 2, {'capacity': 20, 'flow': 15.0}), (1, 4, {'capacity': 25, 'flow': 10.0}), (2, 3, {'capacity': 20, 'flow': 15.0}), (3, 6, {'capacity': 15, 'flow': 15.0}), (3, 5, {'capacity': 10, 'flow': -0.0}), (4, 5, {'capacity': 15, 'flow': 10.0}), (4, 2, {'capacity': 8, 'flow': -0.0}), (5, 6, {'capacity': 10, 'flow': 10.0})])"
      ]
     },
     "execution_count": 42,
     "metadata": {},
     "output_type": "execute_result"
    }
   ],
   "source": [
    "G.edges(data=True)"
   ]
  },
  {
   "cell_type": "code",
   "execution_count": 43,
   "metadata": {},
   "outputs": [
    {
     "name": "stdout",
     "output_type": "stream",
     "text": [
      "sol G:\n",
      "edges (flow,capacity)\n"
     ]
    },
    {
     "data": {
      "image/png": "[encoded data removed]",
      "text/plain": [
       "<Figure size 720x360 with 1 Axes>"
      ]
     },
     "metadata": {
      "needs_background": "light"
     },
     "output_type": "display_data"
    }
   ],
   "source": [
    "plt.figure(figsize=(10,5))\n",
    "\n",
    "plt.axis('off')\n",
    "\n",
    "pos = {1:(0,1),2:(1,2),3:(2,2),4:(1,0),5:(2,0),6:(3,1)}\n",
    "\n",
    "node_labels = {i:i for i in G.nodes()}\n",
    "edge_labels = {(u,v):(G[u][v]['flow'],G[u][v]['capacity']) for u,v in G.edges()}\n",
    "\n",
    "nx.draw_networkx_nodes(G,pos, node_color=['red','orange','orange','orange','orange','blue'])\n",
    "nx.draw_networkx_edges(G,pos, edge_color='black')\n",
    "nx.draw_networkx_labels(G,pos,labels=node_labels)\n",
    "nx.draw_networkx_edge_labels(G,pos,edge_labels=edge_labels)\n",
    "\n",
    "print(\"sol G:\")\n",
    "print(\"edges (flow,capacity)\")"
   ]
  },
  {
   "cell_type": "code",
   "execution_count": 44,
   "metadata": {},
   "outputs": [],
   "source": [
    "flowvalue,flows = nx.maximum_flow(G,1,6,capacity='capacity')"
   ]
  },
  {
   "cell_type": "code",
   "execution_count": 45,
   "metadata": {},
   "outputs": [
    {
     "name": "stdout",
     "output_type": "stream",
     "text": [
      "flow: 25\n"
     ]
    }
   ],
   "source": [
    "print(\"flow:\",flowvalue)"
   ]
  },
  {
   "cell_type": "code",
   "execution_count": 46,
   "metadata": {},
   "outputs": [
    {
     "name": "stdout",
     "output_type": "stream",
     "text": [
      "{1: {2: 7, 4: 18}, 2: {3: 15}, 3: {6: 15, 5: 0}, 4: {5: 10, 2: 8}, 5: {6: 10}, 6: {}}\n"
     ]
    }
   ],
   "source": [
    "print(flows)"
   ]
  }
 ],
 "metadata": {
  "kernelspec": {
   "display_name": "Python 3",
   "language": "python",
   "name": "python3"
  },
  "language_info": {
   "codemirror_mode": {
    "name": "ipython",
    "version": 3
   },
   "file_extension": ".py",
   "mimetype": "text/x-python",
   "name": "python",
   "nbconvert_exporter": "python",
   "pygments_lexer": "ipython3",
   "version": "3.7.3"
  }
 },
 "nbformat": 4,
 "nbformat_minor": 2
}
