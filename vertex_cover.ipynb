{
 "cells": [
  {
   "cell_type": "markdown",
   "metadata": {},
   "source": [
    "# Vertex Cover Problem"
   ]
  },
  {
   "cell_type": "markdown",
   "metadata": {},
   "source": [
    "Given a graph $G=(V,E)$, find the minimum set of vertices that covers all edges in graph.\n",
    "\n",
    "## Variables:\n",
    "\n",
    "$$\n",
    "x_i = \\begin{cases}\n",
    "1 \\text{ if vertex $i$ is selected } \\\\\n",
    "0 \\text{ otherwise }\n",
    "\\end{cases}\n",
    "$$\n",
    "\n",
    "## Formulation:\n",
    "\n",
    "\\begin{eqnarray}\n",
    "min && \\sum_{i \\in V} x_i\\\\\n",
    "s.t.\\\\\n",
    "x_i + x_j \\geq 1 , &&&& \\forall (i,j) \\in E\\\\\n",
    "x_i \\in {\\{0,1\\}} , &&&& \\forall i \\in V\n",
    "\\end{eqnarray}"
   ]
  },
  {
   "cell_type": "code",
   "execution_count": 22,
   "metadata": {},
   "outputs": [],
   "source": [
    "import networkx as nx\n",
    "import gurobipy as gb\n",
    "import matplotlib.pyplot as plt\n",
    "\n",
    "%matplotlib inline"
   ]
  },
  {
   "cell_type": "code",
   "execution_count": 23,
   "metadata": {},
   "outputs": [],
   "source": [
    "# create the graph\n",
    "G = nx.Graph()"
   ]
  },
  {
   "cell_type": "code",
   "execution_count": 24,
   "metadata": {},
   "outputs": [],
   "source": [
    "# add vertices\n",
    "G.add_nodes_from([1,2,3,4,5,6,7,8])"
   ]
  },
  {
   "cell_type": "code",
   "execution_count": 25,
   "metadata": {},
   "outputs": [],
   "source": [
    "# add edges\n",
    "G.add_edges_from([(1,2),(1,4),(1,6),(2,3),(2,4),(3,5),(3,8),(4,7),(5,8),(6,7),(7,8)])"
   ]
  },
  {
   "cell_type": "code",
   "execution_count": 26,
   "metadata": {},
   "outputs": [
    {
     "name": "stdout",
     "output_type": "stream",
     "text": [
      "G:\n"
     ]
    },
    {
     "data": {
      "image/png": "[encoded data removed]",
      "text/plain": [
       "<Figure size 576x360 with 1 Axes>"
      ]
     },
     "metadata": {
      "needs_background": "light"
     },
     "output_type": "display_data"
    }
   ],
   "source": [
    "# plot G\n",
    "\n",
    "plt.figure(figsize=(8,5))\n",
    "plt.axis('off')\n",
    "\n",
    "pos = {1:(0,2),2:(1,2),3:(3,2),4:(1,1),5:(4,1),6:(0,0),7:(1,0),8:(3,0)}\n",
    "node_labels = {i:i for i in G.nodes()}\n",
    "\n",
    "nx.draw_networkx_nodes(G,pos,nodelist=G.nodes(),node_color='orange')\n",
    "nx.draw_networkx_edges(G,pos,edgelist=G.edges())\n",
    "nx.draw_networkx_labels(G,pos,labels=node_labels)\n",
    "\n",
    "print(\"G:\")"
   ]
  },
  {
   "cell_type": "code",
   "execution_count": 27,
   "metadata": {},
   "outputs": [],
   "source": [
    "# gurobi model\n",
    "vertex_cover = gb.Model()"
   ]
  },
  {
   "cell_type": "code",
   "execution_count": 28,
   "metadata": {},
   "outputs": [],
   "source": [
    "# set vars\n",
    "x = vertex_cover.addVars(G.nodes(),vtype=gb.GRB.BINARY,name='x')"
   ]
  },
  {
   "cell_type": "code",
   "execution_count": 29,
   "metadata": {},
   "outputs": [],
   "source": [
    "# set objective function\n",
    "vertex_cover.setObjective(x.sum('*'), gb.GRB.MINIMIZE)"
   ]
  },
  {
   "cell_type": "code",
   "execution_count": 30,
   "metadata": {},
   "outputs": [],
   "source": [
    "# add constraints\n",
    "for i,j in G.edges():\n",
    "    name = \"edge_%s_%s\" % (i,j)\n",
    "    vertex_cover.addConstr(x[i] + x[j] >= 1, name=name)"
   ]
  },
  {
   "cell_type": "code",
   "execution_count": 31,
   "metadata": {},
   "outputs": [],
   "source": [
    "# update model\n",
    "vertex_cover.update()"
   ]
  },
  {
   "cell_type": "code",
   "execution_count": 32,
   "metadata": {},
   "outputs": [],
   "source": [
    "# write model\n",
    "vertex_cover.write('vertexcover.lp')"
   ]
  },
  {
   "cell_type": "code",
   "execution_count": 33,
   "metadata": {},
   "outputs": [
    {
     "name": "stdout",
     "output_type": "stream",
     "text": [
      "Optimize a model with 11 rows, 8 columns and 22 nonzeros\n",
      "Variable types: 0 continuous, 8 integer (8 binary)\n",
      "Coefficient statistics:\n",
      "  Matrix range     [1e+00, 1e+00]\n",
      "  Objective range  [1e+00, 1e+00]\n",
      "  Bounds range     [1e+00, 1e+00]\n",
      "  RHS range        [1e+00, 1e+00]\n",
      "Found heuristic solution: objective 5.0000000\n",
      "Presolve removed 11 rows and 8 columns\n",
      "Presolve time: 0.00s\n",
      "Presolve: All rows and columns removed\n",
      "\n",
      "Explored 0 nodes (0 simplex iterations) in 0.01 seconds\n",
      "Thread count was 1 (of 4 available processors)\n",
      "\n",
      "Solution count 1: 5 \n",
      "\n",
      "Optimal solution found (tolerance 1.00e-04)\n",
      "Best objective 5.000000000000e+00, best bound 5.000000000000e+00, gap 0.0000%\n"
     ]
    }
   ],
   "source": [
    "# optimize\n",
    "vertex_cover.optimize()"
   ]
  },
  {
   "cell_type": "code",
   "execution_count": 34,
   "metadata": {},
   "outputs": [
    {
     "name": "stdout",
     "output_type": "stream",
     "text": [
      "Obj: 5.0\n",
      "\n",
      "x[1] = 1\n",
      "x[2] = -0\n",
      "x[3] = 1\n",
      "x[4] = 1\n",
      "x[5] = -0\n",
      "x[6] = 0\n",
      "x[7] = 1\n",
      "x[8] = 1\n"
     ]
    }
   ],
   "source": [
    "# print solution\n",
    "print(\"Obj:\",vertex_cover.ObjVal,end='\\n\\n')\n",
    "\n",
    "for i in vertex_cover.getVars():\n",
    "    print(\"%s = %g\" % (i.VarName,i.x))"
   ]
  },
  {
   "cell_type": "code",
   "execution_count": 35,
   "metadata": {},
   "outputs": [
    {
     "name": "stdout",
     "output_type": "stream",
     "text": [
      "sol G:\n"
     ]
    },
    {
     "data": {
      "image/png": "[encoded data removed]",
      "text/plain": [
       "<Figure size 576x360 with 1 Axes>"
      ]
     },
     "metadata": {
      "needs_background": "light"
     },
     "output_type": "display_data"
    }
   ],
   "source": [
    "# plot solution graph\n",
    "plt.figure(figsize=(8,5))\n",
    "plt.axis('off')\n",
    "\n",
    "node_colors = ['red' if i.x == 1 else 'orange' for i in vertex_cover.getVars()]\n",
    "\n",
    "nx.draw_networkx_nodes(G,pos,nodelist=G.nodes(),node_color=node_colors)\n",
    "nx.draw_networkx_edges(G,pos,edgelist=G.edges())\n",
    "nx.draw_networkx_labels(G,pos,labels=node_labels)\n",
    "\n",
    "print(\"sol G:\")"
   ]
  }
 ],
 "metadata": {
  "kernelspec": {
   "display_name": "Python 3",
   "language": "python",
   "name": "python3"
  },
  "language_info": {
   "codemirror_mode": {
    "name": "ipython",
    "version": 3
   },
   "file_extension": ".py",
   "mimetype": "text/x-python",
   "name": "python",
   "nbconvert_exporter": "python",
   "pygments_lexer": "ipython3",
   "version": "3.7.3"
  }
 },
 "nbformat": 4,
 "nbformat_minor": 2
}
