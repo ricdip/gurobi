{
 "cells": [
  {
   "cell_type": "markdown",
   "metadata": {},
   "source": [
    "# Edge Cover Problem"
   ]
  },
  {
   "cell_type": "markdown",
   "metadata": {},
   "source": [
    "Given a graph $G=(V,E)$, find the minimum set of edges that covers all the vertices in the graph.\n",
    "\n",
    "## Variables:\n",
    "$$\n",
    "x_{e} = \\begin{cases}\n",
    "1 \\text{ if edge $e$ is selected } \\\\\n",
    "0 \\text{ otherwise }\n",
    "\\end{cases}\n",
    "$$\n",
    "\n",
    "## Formulation:\n",
    "\\begin{eqnarray}\n",
    "min && \\sum_{e \\in E} x_{e} \\\\\n",
    "s.t.\\\\\n",
    "\\sum_{e \\in E(i)} x_e \\geq 1 , &&&& \\forall i \\in V\\\\\n",
    "x_{e} \\in {\\{0,1\\}}^{|E|}\n",
    "\\end{eqnarray}"
   ]
  },
  {
   "cell_type": "code",
   "execution_count": 1,
   "metadata": {},
   "outputs": [],
   "source": [
    "import networkx as nx\n",
    "import gurobipy as gb\n",
    "import matplotlib.pyplot as plt\n",
    "\n",
    "%matplotlib inline"
   ]
  },
  {
   "cell_type": "code",
   "execution_count": 2,
   "metadata": {},
   "outputs": [],
   "source": [
    "# create the graph\n",
    "G = nx.Graph()"
   ]
  },
  {
   "cell_type": "code",
   "execution_count": 3,
   "metadata": {},
   "outputs": [],
   "source": [
    "# add nodes\n",
    "G.add_nodes_from([1,2,3,4,5,6,7,8])"
   ]
  },
  {
   "cell_type": "code",
   "execution_count": 4,
   "metadata": {},
   "outputs": [],
   "source": [
    "# add edges\n",
    "G.add_edges_from([(1,2),(1,4),(1,6),(2,3),(2,4),(3,5),(3,8),(4,7),(5,8),(6,7),(7,8)])"
   ]
  },
  {
   "cell_type": "code",
   "execution_count": 5,
   "metadata": {},
   "outputs": [
    {
     "name": "stdout",
     "output_type": "stream",
     "text": [
      "G:\n"
     ]
    },
    {
     "name": "stderr",
     "output_type": "stream",
     "text": [
      "C:\\Users\\Riccardo\\Anaconda3\\envs\\myenv\\lib\\site-packages\\networkx\\drawing\\nx_pylab.py:611: MatplotlibDeprecationWarning: isinstance(..., numbers.Number)\n",
      "  if cb.is_numlike(alpha):\n"
     ]
    },
    {
     "data": {
      "image/png": "[encoded data removed]",
      "text/plain": [
       "<Figure size 576x360 with 1 Axes>"
      ]
     },
     "metadata": {
      "needs_background": "light"
     },
     "output_type": "display_data"
    }
   ],
   "source": [
    "# plot G\n",
    "plt.figure(figsize=(8,5))\n",
    "plt.axis('off')\n",
    "\n",
    "pos = {1:(0,2),2:(1,2),3:(3,2),4:(1,1),5:(4,1),6:(0,0),7:(1,0),8:(3,0)}\n",
    "node_labels = {i:i for i in G.nodes()}\n",
    "\n",
    "nx.draw_networkx_nodes(G,pos,nodelist=G.nodes(),node_color='orange')\n",
    "nx.draw_networkx_edges(G,pos,edgelist=G.edges())\n",
    "nx.draw_networkx_labels(G,pos,labels=node_labels)\n",
    "\n",
    "print(\"G:\")"
   ]
  },
  {
   "cell_type": "code",
   "execution_count": 6,
   "metadata": {},
   "outputs": [
    {
     "name": "stdout",
     "output_type": "stream",
     "text": [
      "Academic license - for non-commercial use only\n"
     ]
    }
   ],
   "source": [
    "# model\n",
    "edge_cover = gb.Model()"
   ]
  },
  {
   "cell_type": "code",
   "execution_count": 7,
   "metadata": {},
   "outputs": [],
   "source": [
    "# add vars\n",
    "x = edge_cover.addVars(G.edges(), vtype=gb.GRB.BINARY,name='x')"
   ]
  },
  {
   "cell_type": "code",
   "execution_count": 8,
   "metadata": {},
   "outputs": [],
   "source": [
    "# set objective function\n",
    "edge_cover.setObjective(x.sum(),gb.GRB.MINIMIZE)"
   ]
  },
  {
   "cell_type": "code",
   "execution_count": 9,
   "metadata": {},
   "outputs": [],
   "source": [
    "# add constrs (ricordiamo che (i,j) = (j,i) ma abbiamo le variabili x solo per (i,j))\n",
    "for i in G.nodes():\n",
    "    name = \"node_%s\" % (i)\n",
    "    linexpr = gb.LinExpr()\n",
    "    for j in G.adj[i]:\n",
    "        if edge_cover.getVarByName(\"x[%s,%s]\" % (i,j)) is not None:\n",
    "            linexpr+=x[i,j]\n",
    "        else:\n",
    "            linexpr+=x[j,i]\n",
    "            \n",
    "    edge_cover.addConstr(linexpr >= 1,name=name)"
   ]
  },
  {
   "cell_type": "code",
   "execution_count": 10,
   "metadata": {},
   "outputs": [],
   "source": [
    "# update model\n",
    "edge_cover.update()"
   ]
  },
  {
   "cell_type": "code",
   "execution_count": 11,
   "metadata": {},
   "outputs": [],
   "source": [
    "# write model\n",
    "edge_cover.write('edgecover.lp')"
   ]
  },
  {
   "cell_type": "code",
   "execution_count": 12,
   "metadata": {},
   "outputs": [
    {
     "name": "stdout",
     "output_type": "stream",
     "text": [
      "Optimize a model with 8 rows, 11 columns and 22 nonzeros\n",
      "Variable types: 0 continuous, 11 integer (11 binary)\n",
      "Coefficient statistics:\n",
      "  Matrix range     [1e+00, 1e+00]\n",
      "  Objective range  [1e+00, 1e+00]\n",
      "  Bounds range     [1e+00, 1e+00]\n",
      "  RHS range        [1e+00, 1e+00]\n",
      "Found heuristic solution: objective 5.0000000\n",
      "Presolve time: 0.00s\n",
      "Presolved: 8 rows, 11 columns, 22 nonzeros\n",
      "Variable types: 0 continuous, 11 integer (11 binary)\n",
      "\n",
      "Root relaxation: objective 4.000000e+00, 9 iterations, 0.00 seconds\n",
      "\n",
      "    Nodes    |    Current Node    |     Objective Bounds      |     Work\n",
      " Expl Unexpl |  Obj  Depth IntInf | Incumbent    BestBd   Gap | It/Node Time\n",
      "\n",
      "*    0     0               0       4.0000000    4.00000  0.00%     -    0s\n",
      "\n",
      "Explored 0 nodes (9 simplex iterations) in 0.06 seconds\n",
      "Thread count was 4 (of 4 available processors)\n",
      "\n",
      "Solution count 2: 4 5 \n",
      "\n",
      "Optimal solution found (tolerance 1.00e-04)\n",
      "Best objective 4.000000000000e+00, best bound 4.000000000000e+00, gap 0.0000%\n"
     ]
    }
   ],
   "source": [
    "# solve\n",
    "edge_cover.optimize()"
   ]
  },
  {
   "cell_type": "code",
   "execution_count": 13,
   "metadata": {},
   "outputs": [
    {
     "name": "stdout",
     "output_type": "stream",
     "text": [
      "Obj: 4.0\n",
      "\n",
      "x[1,2] = 0\n",
      "x[1,4] = -0\n",
      "x[1,6] = 1\n",
      "x[2,3] = 0\n",
      "x[2,4] = 1\n",
      "x[3,5] = 1\n",
      "x[3,8] = 0\n",
      "x[4,7] = 0\n",
      "x[5,8] = -0\n",
      "x[6,7] = -0\n",
      "x[7,8] = 1\n"
     ]
    }
   ],
   "source": [
    "# print solution\n",
    "print(\"Obj:\",edge_cover.ObjVal,end='\\n\\n')\n",
    "\n",
    "for i in edge_cover.getVars():\n",
    "    print(\"%s = %g\" % (i.VarName,i.x))"
   ]
  },
  {
   "cell_type": "code",
   "execution_count": 14,
   "metadata": {},
   "outputs": [
    {
     "name": "stdout",
     "output_type": "stream",
     "text": [
      "sol G:\n"
     ]
    },
    {
     "data": {
      "image/png": "[encoded data removed]",
      "text/plain": [
       "<Figure size 576x360 with 1 Axes>"
      ]
     },
     "metadata": {
      "needs_background": "light"
     },
     "output_type": "display_data"
    }
   ],
   "source": [
    "# plot solution graph\n",
    "plt.figure(figsize=(8,5))\n",
    "plt.axis('off')\n",
    "\n",
    "pos = {1:(0,2),2:(1,2),3:(3,2),4:(1,1),5:(4,1),6:(0,0),7:(1,0),8:(3,0)}\n",
    "node_labels = {i:i for i in G.nodes()}\n",
    "\n",
    "edge_colors = ['red' if i.x == 1 else 'black' for i in edge_cover.getVars()]\n",
    "\n",
    "nx.draw_networkx_nodes(G,pos,nodelist=G.nodes(),node_color='orange')\n",
    "nx.draw_networkx_edges(G,pos,edgelist=G.edges(),edge_color=edge_colors)\n",
    "nx.draw_networkx_labels(G,pos,labels=node_labels)\n",
    "\n",
    "print(\"sol G:\")"
   ]
  }
 ],
 "metadata": {
  "kernelspec": {
   "display_name": "Python 3",
   "language": "python",
   "name": "python3"
  },
  "language_info": {
   "codemirror_mode": {
    "name": "ipython",
    "version": 3
   },
   "file_extension": ".py",
   "mimetype": "text/x-python",
   "name": "python",
   "nbconvert_exporter": "python",
   "pygments_lexer": "ipython3",
   "version": "3.7.3"
  }
 },
 "nbformat": 4,
 "nbformat_minor": 2
}
