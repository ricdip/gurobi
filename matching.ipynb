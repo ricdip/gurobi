{
 "cells": [
  {
   "cell_type": "markdown",
   "metadata": {},
   "source": [
    "# Matching Problem"
   ]
  },
  {
   "cell_type": "markdown",
   "metadata": {},
   "source": [
    "Given a graph $G=(V,E)$, find a maximum set of edges without common vertices.\n",
    "\n",
    "## Variables:\n",
    "$$\n",
    "x_e = \\begin{cases}\n",
    "1 \\text{ if edge $e$ is selected }\\\\\n",
    "0 \\text{ otherwise }\n",
    "\\end{cases}\n",
    "$$\n",
    "\n",
    "## Formulation:\n",
    "\\begin{eqnarray}\n",
    "max && \\sum_{e \\in E} x_e\\\\\n",
    "s.t.\\\\\n",
    "\\sum_{e \\in E(i)} x_e \\leq 1 , &&&& \\forall i \\in V\\\\\n",
    "x_e \\in {\\{0,1\\}}^{|E|}\n",
    "\\end{eqnarray}"
   ]
  },
  {
   "cell_type": "code",
   "execution_count": 13,
   "metadata": {},
   "outputs": [],
   "source": [
    "import networkx as nx\n",
    "import gurobipy as gb\n",
    "import matplotlib.pyplot as plt\n",
    "\n",
    "%matplotlib inline"
   ]
  },
  {
   "cell_type": "code",
   "execution_count": 14,
   "metadata": {},
   "outputs": [],
   "source": [
    "G = nx.Graph()"
   ]
  },
  {
   "cell_type": "code",
   "execution_count": 15,
   "metadata": {},
   "outputs": [],
   "source": [
    "G.add_nodes_from([1,2,3,4,5])"
   ]
  },
  {
   "cell_type": "code",
   "execution_count": 16,
   "metadata": {},
   "outputs": [],
   "source": [
    "G.add_edges_from([(1,2),(1,4),(2,3),(2,4),(3,5),(4,5)])"
   ]
  },
  {
   "cell_type": "code",
   "execution_count": 17,
   "metadata": {},
   "outputs": [
    {
     "name": "stdout",
     "output_type": "stream",
     "text": [
      "G:\n"
     ]
    },
    {
     "data": {
      "image/png": "[encoded data removed]",
      "text/plain": [
       "<Figure size 576x360 with 1 Axes>"
      ]
     },
     "metadata": {
      "needs_background": "light"
     },
     "output_type": "display_data"
    }
   ],
   "source": [
    "plt.figure(figsize=(8,5))\n",
    "plt.axis('off')\n",
    "pos = {1:(0,1),2:(1,2),3:(2,2),4:(1,0),5:(2,0)}\n",
    "node_labels = {i:i for i in G.nodes()}\n",
    "\n",
    "nx.draw_networkx_nodes(G,pos,G.nodes(),node_color='orange')\n",
    "nx.draw_networkx_edges(G,pos)\n",
    "nx.draw_networkx_labels(G,pos,labels=node_labels)\n",
    "\n",
    "print(\"G:\")"
   ]
  },
  {
   "cell_type": "code",
   "execution_count": 18,
   "metadata": {},
   "outputs": [
    {
     "name": "stdout",
     "output_type": "stream",
     "text": [
      "Academic license - for non-commercial use only\n"
     ]
    }
   ],
   "source": [
    "matching = gb.Model()"
   ]
  },
  {
   "cell_type": "code",
   "execution_count": 19,
   "metadata": {},
   "outputs": [],
   "source": [
    "x = matching.addVars(G.edges(),vtype=gb.GRB.BINARY,name='x')"
   ]
  },
  {
   "cell_type": "code",
   "execution_count": 20,
   "metadata": {},
   "outputs": [],
   "source": [
    "matching.setObjective(x.sum(),gb.GRB.MAXIMIZE)"
   ]
  },
  {
   "cell_type": "code",
   "execution_count": 21,
   "metadata": {},
   "outputs": [],
   "source": [
    "for i in G.nodes():\n",
    "    name = \"node_%s\" % (i)\n",
    "    linexpr = gb.LinExpr()\n",
    "    for j in G.adj[i]:\n",
    "        if matching.getVarByName(\"x[%s,%s]\" % (i,j)) is not None:\n",
    "            linexpr+= x[i,j]\n",
    "        else:\n",
    "            linexpr+= x[j,i]\n",
    "    matching.addConstr(linexpr <= 1, name=name)"
   ]
  },
  {
   "cell_type": "code",
   "execution_count": 22,
   "metadata": {},
   "outputs": [],
   "source": [
    "matching.update()"
   ]
  },
  {
   "cell_type": "code",
   "execution_count": 23,
   "metadata": {},
   "outputs": [],
   "source": [
    "matching.write('matching.lp')"
   ]
  },
  {
   "cell_type": "code",
   "execution_count": 24,
   "metadata": {},
   "outputs": [
    {
     "name": "stdout",
     "output_type": "stream",
     "text": [
      "Optimize a model with 5 rows, 6 columns and 12 nonzeros\n",
      "Variable types: 0 continuous, 6 integer (6 binary)\n",
      "Coefficient statistics:\n",
      "  Matrix range     [1e+00, 1e+00]\n",
      "  Objective range  [1e+00, 1e+00]\n",
      "  Bounds range     [1e+00, 1e+00]\n",
      "  RHS range        [1e+00, 1e+00]\n",
      "Found heuristic solution: objective 2.0000000\n",
      "Presolve removed 0 rows and 1 columns\n",
      "Presolve time: 0.00s\n",
      "Presolved: 5 rows, 5 columns, 10 nonzeros\n",
      "Variable types: 0 continuous, 5 integer (5 binary)\n",
      "\n",
      "Root relaxation: cutoff, 2 iterations, 0.00 seconds\n",
      "\n",
      "    Nodes    |    Current Node    |     Objective Bounds      |     Work\n",
      " Expl Unexpl |  Obj  Depth IntInf | Incumbent    BestBd   Gap | It/Node Time\n",
      "\n",
      "     0     0     cutoff    0         2.00000    2.00000  0.00%     -    0s\n",
      "\n",
      "Explored 0 nodes (2 simplex iterations) in 0.23 seconds\n",
      "Thread count was 4 (of 4 available processors)\n",
      "\n",
      "Solution count 1: 2 \n",
      "\n",
      "Optimal solution found (tolerance 1.00e-04)\n",
      "Best objective 2.000000000000e+00, best bound 2.000000000000e+00, gap 0.0000%\n"
     ]
    }
   ],
   "source": [
    "matching.optimize()"
   ]
  },
  {
   "cell_type": "code",
   "execution_count": 25,
   "metadata": {},
   "outputs": [
    {
     "name": "stdout",
     "output_type": "stream",
     "text": [
      "Obj: 2.0\n"
     ]
    }
   ],
   "source": [
    "print(\"Obj:\",matching.ObjVal)"
   ]
  },
  {
   "cell_type": "code",
   "execution_count": 26,
   "metadata": {},
   "outputs": [
    {
     "name": "stdout",
     "output_type": "stream",
     "text": [
      "x[1,2] = 1\n",
      "x[1,4] = -0\n",
      "x[2,3] = -0\n",
      "x[2,4] = -0\n",
      "x[3,5] = 1\n",
      "x[4,5] = -0\n"
     ]
    }
   ],
   "source": [
    "for i in matching.getVars():\n",
    "    print(\"%s = %g\" % (i.VarName,i.x))"
   ]
  },
  {
   "cell_type": "code",
   "execution_count": 29,
   "metadata": {},
   "outputs": [
    {
     "name": "stdout",
     "output_type": "stream",
     "text": [
      "sol G:\n"
     ]
    },
    {
     "data": {
      "image/png": "[encoded data removed]",
      "text/plain": [
       "<Figure size 576x360 with 1 Axes>"
      ]
     },
     "metadata": {
      "needs_background": "light"
     },
     "output_type": "display_data"
    }
   ],
   "source": [
    "plt.figure(figsize=(8,5))\n",
    "plt.axis('off')\n",
    "pos = {1:(0,1),2:(1,2),3:(2,2),4:(1,0),5:(2,0)}\n",
    "node_labels = {i:i for i in G.nodes()}\n",
    "\n",
    "edge_colors = ['red' if i.x == 1 else 'black' for i in matching.getVars()]\n",
    "\n",
    "nx.draw_networkx_nodes(G,pos,G.nodes(),node_color='orange')\n",
    "nx.draw_networkx_edges(G,pos,edge_color=edge_colors)\n",
    "nx.draw_networkx_labels(G,pos,labels=node_labels)\n",
    "\n",
    "print(\"sol G:\")"
   ]
  }
 ],
 "metadata": {
  "kernelspec": {
   "display_name": "Python 3",
   "language": "python",
   "name": "python3"
  },
  "language_info": {
   "codemirror_mode": {
    "name": "ipython",
    "version": 3
   },
   "file_extension": ".py",
   "mimetype": "text/x-python",
   "name": "python",
   "nbconvert_exporter": "python",
   "pygments_lexer": "ipython3",
   "version": "3.7.3"
  }
 },
 "nbformat": 4,
 "nbformat_minor": 2
}
