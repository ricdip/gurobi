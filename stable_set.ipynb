{
 "cells": [
  {
   "cell_type": "markdown",
   "metadata": {},
   "source": [
    "# Stable Set Problem"
   ]
  },
  {
   "cell_type": "markdown",
   "metadata": {},
   "source": [
    "Given a graph $G=(V,E)$, find the maximum set of non-adjacent vertices.\n",
    "\n",
    "## Variables:\n",
    "\n",
    "$$\n",
    "x_i = \\begin{cases}\n",
    "1 \\text{ if vertex $i$ is selected } \\\\\n",
    "0 \\text { otherwise}\n",
    "\\end{cases}\n",
    "$$\n",
    "\n",
    "## Formulation:\n",
    "\\begin{eqnarray}\n",
    "max && \\sum_{i \\in V} x_i \\\\\n",
    "s.t.\\\\\n",
    "x_i + x_j \\leq 1 , &&&& \\forall (i,j) \\in E \\\\\n",
    "x_i \\in {\\{0,1\\}} , &&&& \\forall i \\in V \\\\\n",
    "\\end{eqnarray}"
   ]
  },
  {
   "cell_type": "code",
   "execution_count": 1,
   "metadata": {},
   "outputs": [],
   "source": [
    "import gurobipy as gb\n",
    "import networkx as nx\n",
    "import matplotlib.pyplot as plt\n",
    "\n",
    "%matplotlib inline"
   ]
  },
  {
   "cell_type": "code",
   "execution_count": 2,
   "metadata": {},
   "outputs": [],
   "source": [
    "G = nx.Graph()"
   ]
  },
  {
   "cell_type": "code",
   "execution_count": 3,
   "metadata": {},
   "outputs": [],
   "source": [
    "G.add_nodes_from([1,2,3,4,5,6])"
   ]
  },
  {
   "cell_type": "code",
   "execution_count": 4,
   "metadata": {},
   "outputs": [],
   "source": [
    "G.add_edges_from([(1,2),(1,3),(2,3),(2,4),(2,5),(2,6),(3,6),(4,6),(5,6)])"
   ]
  },
  {
   "cell_type": "code",
   "execution_count": 17,
   "metadata": {},
   "outputs": [
    {
     "name": "stdout",
     "output_type": "stream",
     "text": [
      "G:\n"
     ]
    },
    {
     "data": {
      "image/png": "[encoded data removed]",
      "text/plain": [
       "<Figure size 360x360 with 1 Axes>"
      ]
     },
     "metadata": {
      "needs_background": "light"
     },
     "output_type": "display_data"
    }
   ],
   "source": [
    "plt.figure(figsize=(5,5))\n",
    "plt.axis('off')\n",
    "\n",
    "\n",
    "pos = nx.shell_layout(G)\n",
    "\n",
    "nx.draw_networkx_nodes(G,pos,G.nodes(),node_color='orange')\n",
    "nx.draw_networkx_edges(G,pos,G.edges())\n",
    "\n",
    "node_labels = {i:i for i in G.nodes()}\n",
    "\n",
    "nx.draw_networkx_labels(G,pos,labels=node_labels)\n",
    "\n",
    "print(\"G:\")"
   ]
  },
  {
   "cell_type": "code",
   "execution_count": 6,
   "metadata": {},
   "outputs": [
    {
     "name": "stdout",
     "output_type": "stream",
     "text": [
      "Academic license - for non-commercial use only\n"
     ]
    }
   ],
   "source": [
    "stableset = gb.Model()"
   ]
  },
  {
   "cell_type": "code",
   "execution_count": 7,
   "metadata": {},
   "outputs": [],
   "source": [
    "x = stableset.addVars(G.nodes(),vtype=gb.GRB.BINARY,name='x')"
   ]
  },
  {
   "cell_type": "code",
   "execution_count": 8,
   "metadata": {},
   "outputs": [],
   "source": [
    "stableset.setObjective(x.sum('*'), gb.GRB.MAXIMIZE)"
   ]
  },
  {
   "cell_type": "code",
   "execution_count": 9,
   "metadata": {},
   "outputs": [],
   "source": [
    "for u,v in G.edges():\n",
    "    name = \"stable_%s_%s\" % (u,v)\n",
    "    stableset.addConstr(x[u] + x[v] <= 1, name=name)"
   ]
  },
  {
   "cell_type": "code",
   "execution_count": 10,
   "metadata": {},
   "outputs": [],
   "source": [
    "stableset.update()"
   ]
  },
  {
   "cell_type": "code",
   "execution_count": 11,
   "metadata": {},
   "outputs": [],
   "source": [
    "stableset.write('stableset.lp')"
   ]
  },
  {
   "cell_type": "code",
   "execution_count": 12,
   "metadata": {},
   "outputs": [
    {
     "name": "stdout",
     "output_type": "stream",
     "text": [
      "Optimize a model with 9 rows, 6 columns and 18 nonzeros\n",
      "Variable types: 0 continuous, 6 integer (6 binary)\n",
      "Coefficient statistics:\n",
      "  Matrix range     [1e+00, 1e+00]\n",
      "  Objective range  [1e+00, 1e+00]\n",
      "  Bounds range     [1e+00, 1e+00]\n",
      "  RHS range        [1e+00, 1e+00]\n",
      "Found heuristic solution: objective 3.0000000\n",
      "Presolve removed 9 rows and 6 columns\n",
      "Presolve time: 0.00s\n",
      "Presolve: All rows and columns removed\n",
      "\n",
      "Explored 0 nodes (0 simplex iterations) in 0.02 seconds\n",
      "Thread count was 1 (of 4 available processors)\n",
      "\n",
      "Solution count 1: 3 \n",
      "\n",
      "Optimal solution found (tolerance 1.00e-04)\n",
      "Best objective 3.000000000000e+00, best bound 3.000000000000e+00, gap 0.0000%\n"
     ]
    }
   ],
   "source": [
    "stableset.optimize()"
   ]
  },
  {
   "cell_type": "code",
   "execution_count": 13,
   "metadata": {},
   "outputs": [
    {
     "name": "stdout",
     "output_type": "stream",
     "text": [
      "Obj: 3.0 \n",
      "\n",
      "x[1] = 1\n",
      "x[2] = 0\n",
      "x[3] = 0\n",
      "x[4] = 1\n",
      "x[5] = 1\n",
      "x[6] = 0\n"
     ]
    }
   ],
   "source": [
    "print(\"Obj:\", stableset.ObjVal,\"\\n\")\n",
    "\n",
    "for i in stableset.getVars():\n",
    "    print(\"%s = %g\" % (i.VarName, i.x))"
   ]
  },
  {
   "cell_type": "code",
   "execution_count": 20,
   "metadata": {},
   "outputs": [
    {
     "name": "stdout",
     "output_type": "stream",
     "text": [
      "sol G:\n"
     ]
    },
    {
     "data": {
      "image/png": "[encoded data removed]",
      "text/plain": [
       "<Figure size 360x360 with 1 Axes>"
      ]
     },
     "metadata": {
      "needs_background": "light"
     },
     "output_type": "display_data"
    }
   ],
   "source": [
    "# print solution graph\n",
    "plt.figure(figsize=(5,5))\n",
    "plt.axis('off')\n",
    "\n",
    "pos = nx.shell_layout(G)\n",
    "\n",
    "colors = ['red' if i.x == 1.0 else 'orange' for i in stableset.getVars()]\n",
    "node_labels = {i:i for i in G.nodes()}\n",
    "\n",
    "nx.draw_networkx_nodes(G,pos,G.nodes(),node_color=colors)\n",
    "nx.draw_networkx_edges(G,pos,G.edges())\n",
    "\n",
    "nx.draw_networkx_labels(G,pos,labels=node_labels)\n",
    "\n",
    "print(\"sol G:\")"
   ]
  }
 ],
 "metadata": {
  "kernelspec": {
   "display_name": "Python 3",
   "language": "python",
   "name": "python3"
  },
  "language_info": {
   "codemirror_mode": {
    "name": "ipython",
    "version": 3
   },
   "file_extension": ".py",
   "mimetype": "text/x-python",
   "name": "python",
   "nbconvert_exporter": "python",
   "pygments_lexer": "ipython3",
   "version": "3.7.3"
  }
 },
 "nbformat": 4,
 "nbformat_minor": 2
}
